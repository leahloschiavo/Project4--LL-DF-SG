{
  "nbformat": 4,
  "nbformat_minor": 0,
  "metadata": {
    "colab": {
      "provenance": []
    },
    "kernelspec": {
      "name": "python3",
      "display_name": "Python 3"
    },
    "language_info": {
      "name": "python"
    }
  },
  "cells": [
    {
      "cell_type": "code",
      "execution_count": 1,
      "metadata": {
        "id": "uDIJQu0YF7jM"
      },
      "outputs": [],
      "source": [
        "# Dependencies\n",
        "import matplotlib.pyplot as plt\n",
        "%matplotlib inline\n",
        "\n",
        "import os\n",
        "import numpy as np\n",
        "import tensorflow as tf\n",
        "\n",
        "os.environ['KMP_DUPLICATE_LIB_OK']='True'\n",
        "\n",
        "from tensorflow import keras\n",
        "from tensorflow.keras.preprocessing import image\n",
        "from tensorflow.keras.preprocessing.image import ImageDataGenerator"
      ]
    },
    {
      "cell_type": "code",
      "source": [
        "# Mount Google Drive to access images\n",
        "from google.colab import drive\n",
        "drive.mount('/content/drive')"
      ],
      "metadata": {
        "colab": {
          "base_uri": "https://localhost:8080/"
        },
        "id": "aKO1cU0TlgdR",
        "outputId": "ac60b41a-7ed7-41f2-9b9d-454d21260cd6"
      },
      "execution_count": 2,
      "outputs": [
        {
          "output_type": "stream",
          "name": "stdout",
          "text": [
            "Mounted at /content/drive\n"
          ]
        }
      ]
    },
    {
      "cell_type": "code",
      "source": [
        "# Data preprocessing\n",
        "# Training set\n",
        "train_datagen = ImageDataGenerator(rescale=1./255, zoom_range = 0, horizontal_flip = False)\n",
        "training_set = train_datagen.flow_from_directory('/content/drive/MyDrive/chest_xray/train', target_size=(64, 64), batch_size=32, class_mode='binary')\n",
        "# Test set\n",
        "test_datagen = ImageDataGenerator(rescale=1./255)\n",
        "test_set = test_datagen.flow_from_directory('/content/drive/MyDrive/chest_xray/test', target_size=(64, 64), batch_size=32, class_mode='binary')\n"
      ],
      "metadata": {
        "colab": {
          "base_uri": "https://localhost:8080/"
        },
        "id": "1Ma-je-jG9nc",
        "outputId": "1714dd2c-1b5c-45d0-edda-4b6ea09ad5a1"
      },
      "execution_count": 3,
      "outputs": [
        {
          "output_type": "stream",
          "name": "stdout",
          "text": [
            "Found 5216 images belonging to 2 classes.\n",
            "Found 624 images belonging to 2 classes.\n"
          ]
        }
      ]
    },
    {
      "cell_type": "code",
      "source": [
        "# Model definition\n",
        "model = tf.keras.models.Sequential()\n",
        "# Add initial convolutional layer\n",
        "model.add(tf.keras.layers.Conv2D(5, 3, padding='same', activation='relu', input_shape=[64, 64, 3]))\n",
        "# Add pooling layer\n",
        "model.add(tf.keras.layers.MaxPool2D(pool_size=2, strides=2))\n",
        "# Add flattening layer\n",
        "model.add(tf.keras.layers.Flatten())\n",
        "# Add first main layer\n",
        "model.add(tf.keras.layers.Dense(units=8, activation='relu'))\n",
        "# Add second main layer\n",
        "model.add(tf.keras.layers.Dense(units=4, activation='relu'))\n",
        "# Add final layer output\n",
        "model.add(tf.keras.layers.Dense(units=1, activation='relu'))\n",
        "\n",
        "model.summary()"
      ],
      "metadata": {
        "colab": {
          "base_uri": "https://localhost:8080/"
        },
        "id": "6q-is7SlIBIR",
        "outputId": "969cd94f-e839-405c-9206-6ac5392daabc"
      },
      "execution_count": 4,
      "outputs": [
        {
          "output_type": "stream",
          "name": "stdout",
          "text": [
            "Model: \"sequential\"\n",
            "_________________________________________________________________\n",
            " Layer (type)                Output Shape              Param #   \n",
            "=================================================================\n",
            " conv2d (Conv2D)             (None, 64, 64, 5)         140       \n",
            "                                                                 \n",
            " max_pooling2d (MaxPooling2  (None, 32, 32, 5)         0         \n",
            " D)                                                              \n",
            "                                                                 \n",
            " flatten (Flatten)           (None, 5120)              0         \n",
            "                                                                 \n",
            " dense (Dense)               (None, 8)                 40968     \n",
            "                                                                 \n",
            " dense_1 (Dense)             (None, 4)                 36        \n",
            "                                                                 \n",
            " dense_2 (Dense)             (None, 1)                 5         \n",
            "                                                                 \n",
            "=================================================================\n",
            "Total params: 41149 (160.74 KB)\n",
            "Trainable params: 41149 (160.74 KB)\n",
            "Non-trainable params: 0 (0.00 Byte)\n",
            "_________________________________________________________________\n"
          ]
        }
      ]
    },
    {
      "cell_type": "code",
      "source": [
        "# Compile and run model\n",
        "model.compile(optimizer='adam', loss='binary_crossentropy', metrics=['accuracy'])\n",
        "model.fit(x=training_set, validation_data=test_set, epochs=50)"
      ],
      "metadata": {
        "colab": {
          "base_uri": "https://localhost:8080/"
        },
        "id": "XRQb1KEnIyRq",
        "outputId": "9489367b-51ca-4ee9-ebea-8afcaf484787"
      },
      "execution_count": 5,
      "outputs": [
        {
          "output_type": "stream",
          "name": "stdout",
          "text": [
            "Epoch 1/50\n",
            "163/163 [==============================] - 1230s 7s/step - loss: 0.5400 - accuracy: 0.7462 - val_loss: 0.5537 - val_accuracy: 0.7228\n",
            "Epoch 2/50\n",
            "163/163 [==============================] - 101s 620ms/step - loss: 0.2778 - accuracy: 0.8992 - val_loss: 1.0507 - val_accuracy: 0.7003\n",
            "Epoch 3/50\n",
            "163/163 [==============================] - 93s 573ms/step - loss: 0.2780 - accuracy: 0.8972 - val_loss: 0.5373 - val_accuracy: 0.8157\n",
            "Epoch 4/50\n",
            "163/163 [==============================] - 94s 580ms/step - loss: 0.2949 - accuracy: 0.9225 - val_loss: 0.7394 - val_accuracy: 0.8093\n",
            "Epoch 5/50\n",
            "163/163 [==============================] - 98s 599ms/step - loss: 0.3822 - accuracy: 0.8936 - val_loss: 0.7441 - val_accuracy: 0.7292\n",
            "Epoch 6/50\n",
            "163/163 [==============================] - 92s 562ms/step - loss: 0.1707 - accuracy: 0.9436 - val_loss: 0.8917 - val_accuracy: 0.7885\n",
            "Epoch 7/50\n",
            "163/163 [==============================] - 92s 563ms/step - loss: 0.1405 - accuracy: 0.9534 - val_loss: 1.5928 - val_accuracy: 0.7756\n",
            "Epoch 8/50\n",
            "163/163 [==============================] - 91s 560ms/step - loss: 0.1521 - accuracy: 0.9505 - val_loss: 1.1363 - val_accuracy: 0.7853\n",
            "Epoch 9/50\n",
            "163/163 [==============================] - 94s 574ms/step - loss: 0.1185 - accuracy: 0.9630 - val_loss: 1.8728 - val_accuracy: 0.7628\n",
            "Epoch 10/50\n",
            "163/163 [==============================] - 98s 600ms/step - loss: 0.1380 - accuracy: 0.9574 - val_loss: 0.7100 - val_accuracy: 0.7917\n",
            "Epoch 11/50\n",
            "163/163 [==============================] - 94s 580ms/step - loss: 0.1193 - accuracy: 0.9597 - val_loss: 1.8175 - val_accuracy: 0.7532\n",
            "Epoch 12/50\n",
            "163/163 [==============================] - 92s 565ms/step - loss: 0.1003 - accuracy: 0.9678 - val_loss: 1.7049 - val_accuracy: 0.7580\n",
            "Epoch 13/50\n",
            "163/163 [==============================] - 92s 562ms/step - loss: 0.1012 - accuracy: 0.9668 - val_loss: 2.7398 - val_accuracy: 0.7035\n",
            "Epoch 14/50\n",
            "163/163 [==============================] - 95s 580ms/step - loss: 0.3258 - accuracy: 0.9365 - val_loss: 1.7110 - val_accuracy: 0.7500\n",
            "Epoch 15/50\n",
            "163/163 [==============================] - 91s 560ms/step - loss: 0.1353 - accuracy: 0.9605 - val_loss: 1.6530 - val_accuracy: 0.7596\n",
            "Epoch 16/50\n",
            "163/163 [==============================] - 95s 580ms/step - loss: 0.1038 - accuracy: 0.9676 - val_loss: 1.8965 - val_accuracy: 0.7500\n",
            "Epoch 17/50\n",
            "163/163 [==============================] - 95s 582ms/step - loss: 0.0991 - accuracy: 0.9663 - val_loss: 1.8191 - val_accuracy: 0.7628\n",
            "Epoch 18/50\n",
            "163/163 [==============================] - 90s 552ms/step - loss: 0.0997 - accuracy: 0.9663 - val_loss: 1.7698 - val_accuracy: 0.7676\n",
            "Epoch 19/50\n",
            "163/163 [==============================] - 92s 567ms/step - loss: 0.0960 - accuracy: 0.9697 - val_loss: 2.1844 - val_accuracy: 0.7516\n",
            "Epoch 20/50\n",
            "163/163 [==============================] - 93s 569ms/step - loss: 0.0979 - accuracy: 0.9666 - val_loss: 1.0685 - val_accuracy: 0.8237\n",
            "Epoch 21/50\n",
            "163/163 [==============================] - 93s 570ms/step - loss: 0.1058 - accuracy: 0.9638 - val_loss: 2.0654 - val_accuracy: 0.7564\n",
            "Epoch 22/50\n",
            "163/163 [==============================] - 92s 565ms/step - loss: 0.0855 - accuracy: 0.9686 - val_loss: 2.3805 - val_accuracy: 0.7372\n",
            "Epoch 23/50\n",
            "163/163 [==============================] - 91s 560ms/step - loss: 0.0871 - accuracy: 0.9693 - val_loss: 1.9653 - val_accuracy: 0.7676\n",
            "Epoch 24/50\n",
            "163/163 [==============================] - 91s 557ms/step - loss: 0.0802 - accuracy: 0.9724 - val_loss: 2.2906 - val_accuracy: 0.7564\n",
            "Epoch 25/50\n",
            "163/163 [==============================] - 94s 578ms/step - loss: 0.0780 - accuracy: 0.9737 - val_loss: 2.5513 - val_accuracy: 0.7324\n",
            "Epoch 26/50\n",
            "163/163 [==============================] - 93s 568ms/step - loss: 0.0779 - accuracy: 0.9734 - val_loss: 2.0751 - val_accuracy: 0.7724\n",
            "Epoch 27/50\n",
            "163/163 [==============================] - 93s 569ms/step - loss: 0.0730 - accuracy: 0.9743 - val_loss: 2.0672 - val_accuracy: 0.7772\n",
            "Epoch 28/50\n",
            "163/163 [==============================] - 94s 575ms/step - loss: 0.0899 - accuracy: 0.9728 - val_loss: 2.6161 - val_accuracy: 0.7356\n",
            "Epoch 29/50\n",
            "163/163 [==============================] - 91s 559ms/step - loss: 0.0713 - accuracy: 0.9760 - val_loss: 2.6287 - val_accuracy: 0.7436\n",
            "Epoch 30/50\n",
            "163/163 [==============================] - 94s 575ms/step - loss: 0.0691 - accuracy: 0.9770 - val_loss: 2.6061 - val_accuracy: 0.7516\n",
            "Epoch 31/50\n",
            "163/163 [==============================] - 91s 560ms/step - loss: 0.0831 - accuracy: 0.9762 - val_loss: 2.3655 - val_accuracy: 0.7708\n",
            "Epoch 32/50\n",
            "163/163 [==============================] - 91s 560ms/step - loss: 0.0680 - accuracy: 0.9778 - val_loss: 2.4429 - val_accuracy: 0.7708\n",
            "Epoch 33/50\n",
            "163/163 [==============================] - 93s 570ms/step - loss: 0.0625 - accuracy: 0.9812 - val_loss: 2.0452 - val_accuracy: 0.7869\n",
            "Epoch 34/50\n",
            "163/163 [==============================] - 91s 557ms/step - loss: 0.0575 - accuracy: 0.9822 - val_loss: 2.3889 - val_accuracy: 0.7837\n",
            "Epoch 35/50\n",
            "163/163 [==============================] - 92s 562ms/step - loss: 0.0517 - accuracy: 0.9829 - val_loss: 3.2861 - val_accuracy: 0.7163\n",
            "Epoch 36/50\n",
            "163/163 [==============================] - 92s 567ms/step - loss: 0.0527 - accuracy: 0.9835 - val_loss: 2.4836 - val_accuracy: 0.7724\n",
            "Epoch 37/50\n",
            "163/163 [==============================] - 92s 568ms/step - loss: 0.0497 - accuracy: 0.9843 - val_loss: 2.7677 - val_accuracy: 0.7580\n",
            "Epoch 38/50\n",
            "163/163 [==============================] - 92s 562ms/step - loss: 0.0475 - accuracy: 0.9854 - val_loss: 2.8572 - val_accuracy: 0.7500\n",
            "Epoch 39/50\n",
            "163/163 [==============================] - 92s 562ms/step - loss: 0.0807 - accuracy: 0.9745 - val_loss: 1.7909 - val_accuracy: 0.7837\n",
            "Epoch 40/50\n",
            "163/163 [==============================] - 92s 566ms/step - loss: 0.0541 - accuracy: 0.9854 - val_loss: 3.0313 - val_accuracy: 0.7436\n",
            "Epoch 41/50\n",
            "163/163 [==============================] - 91s 556ms/step - loss: 0.0435 - accuracy: 0.9891 - val_loss: 2.7641 - val_accuracy: 0.7564\n",
            "Epoch 42/50\n",
            "163/163 [==============================] - 94s 577ms/step - loss: 0.0380 - accuracy: 0.9910 - val_loss: 3.2735 - val_accuracy: 0.7179\n",
            "Epoch 43/50\n",
            "163/163 [==============================] - 92s 562ms/step - loss: 0.0369 - accuracy: 0.9904 - val_loss: 3.3030 - val_accuracy: 0.7212\n",
            "Epoch 44/50\n",
            "163/163 [==============================] - 92s 563ms/step - loss: 0.0330 - accuracy: 0.9937 - val_loss: 2.8620 - val_accuracy: 0.7532\n",
            "Epoch 45/50\n",
            "163/163 [==============================] - 93s 572ms/step - loss: 0.0313 - accuracy: 0.9944 - val_loss: 3.2988 - val_accuracy: 0.7276\n",
            "Epoch 46/50\n",
            "163/163 [==============================] - 93s 571ms/step - loss: 0.0304 - accuracy: 0.9948 - val_loss: 3.2151 - val_accuracy: 0.7436\n",
            "Epoch 47/50\n",
            "163/163 [==============================] - 93s 568ms/step - loss: 0.0286 - accuracy: 0.9946 - val_loss: 3.4359 - val_accuracy: 0.7244\n",
            "Epoch 48/50\n",
            "163/163 [==============================] - 90s 554ms/step - loss: 0.0273 - accuracy: 0.9964 - val_loss: 3.3581 - val_accuracy: 0.7276\n",
            "Epoch 49/50\n",
            "163/163 [==============================] - 94s 576ms/step - loss: 0.0250 - accuracy: 0.9975 - val_loss: 3.1801 - val_accuracy: 0.7468\n",
            "Epoch 50/50\n",
            "163/163 [==============================] - 92s 567ms/step - loss: 0.0238 - accuracy: 0.9975 - val_loss: 2.8972 - val_accuracy: 0.7708\n"
          ]
        },
        {
          "output_type": "execute_result",
          "data": {
            "text/plain": [
              "<keras.src.callbacks.History at 0x79e0dfd19d80>"
            ]
          },
          "metadata": {},
          "execution_count": 5
        }
      ]
    },
    {
      "cell_type": "code",
      "source": [
        "# Evaluate the model's performance\n",
        "val_datagen = ImageDataGenerator(rescale=1./255, zoom_range = 0, horizontal_flip = False)\n",
        "val_set = val_datagen.flow_from_directory('/content/drive/MyDrive/chest_xray/val', target_size=(64, 64), batch_size=32, class_mode='binary')\n",
        "model_loss, model_accuracy = model.evaluate(val_set, verbose=2)\n",
        "print(f\"Loss: {model_loss}, Accuracy: {model_accuracy}\")"
      ],
      "metadata": {
        "colab": {
          "base_uri": "https://localhost:8080/"
        },
        "id": "VCCYayAj01uv",
        "outputId": "5f51b556-391f-4483-b4e5-b16d6e14438d"
      },
      "execution_count": 10,
      "outputs": [
        {
          "output_type": "stream",
          "name": "stdout",
          "text": [
            "Found 154 images belonging to 2 classes.\n",
            "5/5 - 29s - loss: 0.3136 - accuracy: 0.9740 - 29s/epoch - 6s/step\n",
            "Loss: 0.31359970569610596, Accuracy: 0.9740259647369385\n"
          ]
        }
      ]
    }
  ]
}