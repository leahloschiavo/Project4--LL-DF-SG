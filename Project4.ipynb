{
  "nbformat": 4,
  "nbformat_minor": 0,
  "metadata": {
    "colab": {
      "provenance": []
    },
    "kernelspec": {
      "name": "python3",
      "display_name": "Python 3"
    },
    "language_info": {
      "name": "python"
    }
  },
  "cells": [
    {
      "cell_type": "code",
      "execution_count": null,
      "metadata": {
        "id": "uDIJQu0YF7jM"
      },
      "outputs": [],
      "source": [
        "# Dependencies\n",
        "import matplotlib.pyplot as plt\n",
        "%matplotlib inline\n",
        "\n",
        "import os\n",
        "import numpy as np\n",
        "import tensorflow as tf\n",
        "\n",
        "os.environ['KMP_DUPLICATE_LIB_OK']='True'\n",
        "\n",
        "from tensorflow import keras\n",
        "from tensorflow.keras.preprocessing import image\n",
        "from tensorflow.keras.preprocessing.image import ImageDataGenerator"
      ]
    },
    {
      "cell_type": "code",
      "source": [
        "# Data preprocessing\n",
        "# Training set\n",
        "train_datagen = ImageDataGenerator( rescale =1./255, zoom_range = 0.2, horizontal_flip = True)\n",
        "training_set = train_datagen.flow_from_directory('LINK GOES HERE', target_size = (64, 64), batch_size = 32, class_mode = 'binary')\n",
        "# Test set\n",
        "test_datagen = ImageDataGenerator(rescale = 1./255)\n",
        "test_set = test_datagen.flow_from_directory('LINK GOES HERE', target_size = (64, 64), batch_size = 32, class_mode = 'binary')\n",
        "\n",
        "img = training_set[0]\n",
        "plt.imshow(img)"
      ],
      "metadata": {
        "id": "1Ma-je-jG9nc"
      },
      "execution_count": null,
      "outputs": []
    },
    {
      "cell_type": "code",
      "source": [
        "# Model definition\n",
        "model = tf.keras.models.Sequential()\n",
        "# Add initial convolutional layer\n",
        "model.add(tf.keras.layers.Conv2D(filters=5, kernel_size=3, activation='relu', input_shape=[64, 64, 3])))\n",
        "# Add maximum pooling layer\n",
        "model.add(tf.keras.layers.MaxPool2D(pool_size=2, strides=2))\n",
        "# Add flattening layer\n",
        "model.add(tf.keras.layers.Flatten())\n",
        "# Add neural network\n",
        "model.add(tf.keras.layers.Dense(units=128, activation='relu'))\n",
        "# Add final layer output\n",
        "model.add(tf.keras.layers.Dense(units=1, activation='relu'))"
      ],
      "metadata": {
        "id": "6q-is7SlIBIR"
      },
      "execution_count": null,
      "outputs": []
    },
    {
      "cell_type": "code",
      "source": [
        "# Compile and run model\n",
        "model.compile(optimizer = 'adam', loss = 'binary_crossentropy', metrics = ['accuracy'])\n",
        "model.fit(x = training_set, validation_data = test_set, epochs = 5)"
      ],
      "metadata": {
        "id": "XRQb1KEnIyRq"
      },
      "execution_count": null,
      "outputs": []
    }
  ]
}