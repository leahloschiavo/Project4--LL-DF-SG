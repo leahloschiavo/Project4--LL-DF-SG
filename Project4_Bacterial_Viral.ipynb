{
  "nbformat": 4,
  "nbformat_minor": 0,
  "metadata": {
    "colab": {
      "provenance": []
    },
    "kernelspec": {
      "name": "python3",
      "display_name": "Python 3"
    },
    "language_info": {
      "name": "python"
    }
  },
  "cells": [
    {
      "cell_type": "code",
      "execution_count": 1,
      "metadata": {
        "id": "SlSDQezcra73"
      },
      "outputs": [],
      "source": [
        "# Dependencies\n",
        "import matplotlib.pyplot as plt\n",
        "%matplotlib inline\n",
        "\n",
        "import os\n",
        "import numpy as np\n",
        "import tensorflow as tf\n",
        "\n",
        "os.environ['KMP_DUPLICATE_LIB_OK']='True'\n",
        "\n",
        "from tensorflow import keras\n",
        "from tensorflow.keras.preprocessing import image\n",
        "from tensorflow.keras.preprocessing.image import ImageDataGenerator"
      ]
    },
    {
      "cell_type": "code",
      "source": [
        "# Mount Google Drive to access images\n",
        "from google.colab import drive\n",
        "drive.mount('/content/drive')"
      ],
      "metadata": {
        "colab": {
          "base_uri": "https://localhost:8080/"
        },
        "id": "BhSQUf9rrgkj",
        "outputId": "d86d6ad0-fea5-4bb5-bd94-ac0039590688"
      },
      "execution_count": 2,
      "outputs": [
        {
          "output_type": "stream",
          "name": "stdout",
          "text": [
            "Mounted at /content/drive\n"
          ]
        }
      ]
    },
    {
      "cell_type": "code",
      "source": [
        "# Data preprocessing\n",
        "# Training set\n",
        "train_datagen = ImageDataGenerator(rescale=1./255, zoom_range = 0, horizontal_flip = False)\n",
        "training_set = train_datagen.flow_from_directory('/content/drive/MyDrive/chest_xray/chest_xray/train/PNEUMONIA', target_size=(64, 64), batch_size=32, class_mode='binary')\n",
        "# Test set\n",
        "test_datagen = ImageDataGenerator(rescale=1./255)\n",
        "test_set = test_datagen.flow_from_directory('/content/drive/MyDrive/chest_xray/chest_xray/test/PNEUMONIA', target_size=(64, 64), batch_size=32, class_mode='binary')"
      ],
      "metadata": {
        "colab": {
          "base_uri": "https://localhost:8080/"
        },
        "id": "uWUTB5tUriDA",
        "outputId": "468f3b4f-495e-44aa-abfa-c1264ea695f1"
      },
      "execution_count": 3,
      "outputs": [
        {
          "output_type": "stream",
          "name": "stdout",
          "text": [
            "Found 1093 images belonging to 2 classes.\n",
            "Found 390 images belonging to 2 classes.\n"
          ]
        }
      ]
    },
    {
      "cell_type": "code",
      "source": [
        "# Model definition\n",
        "model = tf.keras.models.Sequential()\n",
        "# Add initial convolutional layer\n",
        "model.add(tf.keras.layers.Conv2D(5, 3, padding='same', activation='relu', input_shape=[64, 64, 3]))\n",
        "# Add pooling layer\n",
        "model.add(tf.keras.layers.MaxPool2D(pool_size=2, strides=2))\n",
        "# Add flattening layer\n",
        "model.add(tf.keras.layers.Flatten())\n",
        "# Add first main layer\n",
        "model.add(tf.keras.layers.Dense(units=8, activation='relu'))\n",
        "# Add second main layer\n",
        "model.add(tf.keras.layers.Dense(units=4, activation='relu'))\n",
        "# Add final layer output\n",
        "model.add(tf.keras.layers.Dense(units=1, activation='relu'))\n",
        "\n",
        "model.summary()"
      ],
      "metadata": {
        "colab": {
          "base_uri": "https://localhost:8080/"
        },
        "id": "2t7v6W3dsWUO",
        "outputId": "cee70e01-449e-4faf-be3d-8d63e00d3716"
      },
      "execution_count": 4,
      "outputs": [
        {
          "output_type": "stream",
          "name": "stdout",
          "text": [
            "Model: \"sequential\"\n",
            "_________________________________________________________________\n",
            " Layer (type)                Output Shape              Param #   \n",
            "=================================================================\n",
            " conv2d (Conv2D)             (None, 64, 64, 5)         140       \n",
            "                                                                 \n",
            " max_pooling2d (MaxPooling2  (None, 32, 32, 5)         0         \n",
            " D)                                                              \n",
            "                                                                 \n",
            " flatten (Flatten)           (None, 5120)              0         \n",
            "                                                                 \n",
            " dense (Dense)               (None, 8)                 40968     \n",
            "                                                                 \n",
            " dense_1 (Dense)             (None, 4)                 36        \n",
            "                                                                 \n",
            " dense_2 (Dense)             (None, 1)                 5         \n",
            "                                                                 \n",
            "=================================================================\n",
            "Total params: 41149 (160.74 KB)\n",
            "Trainable params: 41149 (160.74 KB)\n",
            "Non-trainable params: 0 (0.00 Byte)\n",
            "_________________________________________________________________\n"
          ]
        }
      ]
    },
    {
      "cell_type": "code",
      "source": [
        "# Compile and run model\n",
        "model.compile(optimizer='adam', loss='binary_crossentropy', metrics=['accuracy'])\n",
        "model.fit(x=training_set, validation_data=test_set, epochs=20)"
      ],
      "metadata": {
        "colab": {
          "base_uri": "https://localhost:8080/"
        },
        "id": "JPqz2vrKsXxu",
        "outputId": "256e3e55-0236-4ff7-a896-036f7a80040a"
      },
      "execution_count": 5,
      "outputs": [
        {
          "output_type": "stream",
          "name": "stdout",
          "text": [
            "Epoch 1/20\n",
            "35/35 [==============================] - 746s 22s/step - loss: 10.7585 - accuracy: 0.2864 - val_loss: 9.4623 - val_accuracy: 0.3795\n",
            "Epoch 2/20\n",
            "35/35 [==============================] - 17s 480ms/step - loss: 10.9661 - accuracy: 0.2809 - val_loss: 9.4623 - val_accuracy: 0.3795\n",
            "Epoch 3/20\n",
            "35/35 [==============================] - 17s 486ms/step - loss: 10.9661 - accuracy: 0.2809 - val_loss: 9.4623 - val_accuracy: 0.3795\n",
            "Epoch 4/20\n",
            "35/35 [==============================] - 18s 519ms/step - loss: 10.9661 - accuracy: 0.2809 - val_loss: 9.4623 - val_accuracy: 0.3795\n",
            "Epoch 5/20\n",
            "35/35 [==============================] - 17s 481ms/step - loss: 10.9661 - accuracy: 0.2809 - val_loss: 9.4623 - val_accuracy: 0.3795\n",
            "Epoch 6/20\n",
            "35/35 [==============================] - 18s 520ms/step - loss: 10.9661 - accuracy: 0.2809 - val_loss: 9.4623 - val_accuracy: 0.3795\n",
            "Epoch 7/20\n",
            "35/35 [==============================] - 17s 482ms/step - loss: 10.9661 - accuracy: 0.2809 - val_loss: 9.4623 - val_accuracy: 0.3795\n",
            "Epoch 8/20\n",
            "35/35 [==============================] - 17s 482ms/step - loss: 10.9661 - accuracy: 0.2809 - val_loss: 9.4623 - val_accuracy: 0.3795\n",
            "Epoch 9/20\n",
            "35/35 [==============================] - 18s 528ms/step - loss: 10.9661 - accuracy: 0.2809 - val_loss: 9.4623 - val_accuracy: 0.3795\n",
            "Epoch 10/20\n",
            "35/35 [==============================] - 18s 528ms/step - loss: 10.9661 - accuracy: 0.2809 - val_loss: 9.4623 - val_accuracy: 0.3795\n",
            "Epoch 11/20\n",
            "35/35 [==============================] - 17s 504ms/step - loss: 10.9661 - accuracy: 0.2809 - val_loss: 9.4623 - val_accuracy: 0.3795\n",
            "Epoch 12/20\n",
            "35/35 [==============================] - 18s 520ms/step - loss: 10.9661 - accuracy: 0.2809 - val_loss: 9.4623 - val_accuracy: 0.3795\n",
            "Epoch 13/20\n",
            "35/35 [==============================] - 18s 532ms/step - loss: 10.9661 - accuracy: 0.2809 - val_loss: 9.4623 - val_accuracy: 0.3795\n",
            "Epoch 14/20\n",
            "35/35 [==============================] - 18s 530ms/step - loss: 10.9661 - accuracy: 0.2809 - val_loss: 9.4623 - val_accuracy: 0.3795\n",
            "Epoch 15/20\n",
            "35/35 [==============================] - 17s 485ms/step - loss: 10.9661 - accuracy: 0.2809 - val_loss: 9.4623 - val_accuracy: 0.3795\n",
            "Epoch 16/20\n",
            "35/35 [==============================] - 17s 482ms/step - loss: 10.9661 - accuracy: 0.2809 - val_loss: 9.4623 - val_accuracy: 0.3795\n",
            "Epoch 17/20\n",
            "35/35 [==============================] - 18s 522ms/step - loss: 10.9661 - accuracy: 0.2809 - val_loss: 9.4623 - val_accuracy: 0.3795\n",
            "Epoch 18/20\n",
            "35/35 [==============================] - 18s 528ms/step - loss: 10.9661 - accuracy: 0.2809 - val_loss: 9.4623 - val_accuracy: 0.3795\n",
            "Epoch 19/20\n",
            "35/35 [==============================] - 17s 501ms/step - loss: 10.9661 - accuracy: 0.2809 - val_loss: 9.4623 - val_accuracy: 0.3795\n",
            "Epoch 20/20\n",
            "35/35 [==============================] - 17s 484ms/step - loss: 10.9661 - accuracy: 0.2809 - val_loss: 9.4623 - val_accuracy: 0.3795\n"
          ]
        },
        {
          "output_type": "execute_result",
          "data": {
            "text/plain": [
              "<keras.src.callbacks.History at 0x7d9bc017a4a0>"
            ]
          },
          "metadata": {},
          "execution_count": 5
        }
      ]
    },
    {
      "cell_type": "code",
      "source": [
        "# Evaluate the model's performance\n",
        "model_loss, model_accuracy = model.evaluate(test_set, verbose=2)\n",
        "print(f\"Loss: {model_loss}, Accuracy: {model_accuracy}\")"
      ],
      "metadata": {
        "colab": {
          "base_uri": "https://localhost:8080/"
        },
        "id": "m8aMyZqw60XO",
        "outputId": "1541411a-1839-4e44-a763-28a276e4352f"
      },
      "execution_count": 6,
      "outputs": [
        {
          "output_type": "stream",
          "name": "stdout",
          "text": [
            "13/13 - 5s - loss: 9.4623 - accuracy: 0.3795 - 5s/epoch - 366ms/step\n",
            "Loss: 9.462347984313965, Accuracy: 0.37948718667030334\n"
          ]
        }
      ]
    }
  ]
}