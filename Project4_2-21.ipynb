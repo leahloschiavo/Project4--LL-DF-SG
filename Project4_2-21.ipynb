{
  "nbformat": 4,
  "nbformat_minor": 0,
  "metadata": {
    "colab": {
      "provenance": []
    },
    "kernelspec": {
      "name": "python3",
      "display_name": "Python 3"
    },
    "language_info": {
      "name": "python"
    }
  },
  "cells": [
    {
      "cell_type": "code",
      "execution_count": 1,
      "metadata": {
        "id": "uDIJQu0YF7jM"
      },
      "outputs": [],
      "source": [
        "# Dependencies\n",
        "import matplotlib.pyplot as plt\n",
        "%matplotlib inline\n",
        "\n",
        "import os\n",
        "import numpy as np\n",
        "import tensorflow as tf\n",
        "\n",
        "os.environ['KMP_DUPLICATE_LIB_OK']='True'\n",
        "\n",
        "from tensorflow import keras\n",
        "from tensorflow.keras.preprocessing import image\n",
        "from tensorflow.keras.preprocessing.image import ImageDataGenerator"
      ]
    },
    {
      "cell_type": "code",
      "source": [
        "# Mount Google Drive to access images\n",
        "from google.colab import drive\n",
        "drive.mount('/content/drive')"
      ],
      "metadata": {
        "colab": {
          "base_uri": "https://localhost:8080/"
        },
        "id": "aKO1cU0TlgdR",
        "outputId": "a3754264-cb17-4830-cf0a-af6558fae2a8"
      },
      "execution_count": 2,
      "outputs": [
        {
          "output_type": "stream",
          "name": "stdout",
          "text": [
            "Mounted at /content/drive\n"
          ]
        }
      ]
    },
    {
      "cell_type": "code",
      "source": [
        "# Data preprocessing\n",
        "# Training set\n",
        "train_datagen = ImageDataGenerator(rescale=1./255, zoom_range = 0.2, horizontal_flip = True)\n",
        "training_set = train_datagen.flow_from_directory('/content/drive/MyDrive/chest_xray/train', target_size=(64, 64), batch_size=32, class_mode='binary')\n",
        "# Test set\n",
        "test_datagen = ImageDataGenerator(rescale=1./255)\n",
        "test_set = test_datagen.flow_from_directory('/content/drive/MyDrive/chest_xray/test', target_size=(64, 64), batch_size=32, class_mode='binary')\n"
      ],
      "metadata": {
        "colab": {
          "base_uri": "https://localhost:8080/"
        },
        "id": "1Ma-je-jG9nc",
        "outputId": "1ae8b35f-d0c4-49da-dbe6-131fb3ec81dd"
      },
      "execution_count": 13,
      "outputs": [
        {
          "output_type": "stream",
          "name": "stdout",
          "text": [
            "Found 5216 images belonging to 2 classes.\n",
            "Found 624 images belonging to 2 classes.\n"
          ]
        }
      ]
    },
    {
      "cell_type": "code",
      "source": [
        "# Model definition\n",
        "model = tf.keras.models.Sequential()\n",
        "# Add initial convolutional layer\n",
        "model.add(tf.keras.layers.Conv2D(filters=5, kernel_size=3, activation='relu', input_shape=[64, 64, 3]))\n",
        "# Add maximum pooling layer\n",
        "model.add(tf.keras.layers.MaxPool2D(pool_size=2, strides=2))\n",
        "# Add flattening layer\n",
        "model.add(tf.keras.layers.Flatten())\n",
        "# Add neural network\n",
        "model.add(tf.keras.layers.Dense(units=32, activation='relu'))\n",
        "# Add final layer output\n",
        "model.add(tf.keras.layers.Dense(units=1, activation='relu'))\n",
        "\n",
        "model.summary()"
      ],
      "metadata": {
        "colab": {
          "base_uri": "https://localhost:8080/"
        },
        "id": "6q-is7SlIBIR",
        "outputId": "80e0d238-ef40-4702-98e3-34ac6fedfe8f"
      },
      "execution_count": 14,
      "outputs": [
        {
          "output_type": "stream",
          "name": "stdout",
          "text": [
            "Model: \"sequential_2\"\n",
            "_________________________________________________________________\n",
            " Layer (type)                Output Shape              Param #   \n",
            "=================================================================\n",
            " conv2d_2 (Conv2D)           (None, 62, 62, 5)         140       \n",
            "                                                                 \n",
            " max_pooling2d_2 (MaxPoolin  (None, 31, 31, 5)         0         \n",
            " g2D)                                                            \n",
            "                                                                 \n",
            " flatten_2 (Flatten)         (None, 4805)              0         \n",
            "                                                                 \n",
            " dense_4 (Dense)             (None, 32)                153792    \n",
            "                                                                 \n",
            " dense_5 (Dense)             (None, 1)                 33        \n",
            "                                                                 \n",
            "=================================================================\n",
            "Total params: 153965 (601.43 KB)\n",
            "Trainable params: 153965 (601.43 KB)\n",
            "Non-trainable params: 0 (0.00 Byte)\n",
            "_________________________________________________________________\n"
          ]
        }
      ]
    },
    {
      "cell_type": "code",
      "source": [
        "# Compile and run model\n",
        "model.compile(optimizer='adam', loss='binary_crossentropy', metrics=['accuracy'])\n",
        "model.fit(x=training_set, validation_data=test_set, epochs=5)"
      ],
      "metadata": {
        "colab": {
          "base_uri": "https://localhost:8080/"
        },
        "id": "XRQb1KEnIyRq",
        "outputId": "1d00132c-45dc-4183-8234-0cd8c3c7134f"
      },
      "execution_count": 15,
      "outputs": [
        {
          "output_type": "stream",
          "name": "stdout",
          "text": [
            "Epoch 1/5\n",
            "163/163 [==============================] - 1095s 6s/step - loss: 4.0195 - accuracy: 0.7364 - val_loss: 5.7185 - val_accuracy: 0.6250\n",
            "Epoch 2/5\n",
            "163/163 [==============================] - 99s 605ms/step - loss: 3.9205 - accuracy: 0.7429 - val_loss: 5.7185 - val_accuracy: 0.6250\n",
            "Epoch 3/5\n",
            "163/163 [==============================] - 91s 560ms/step - loss: 3.9205 - accuracy: 0.7429 - val_loss: 5.7185 - val_accuracy: 0.6250\n",
            "Epoch 4/5\n",
            "163/163 [==============================] - 89s 544ms/step - loss: 3.9205 - accuracy: 0.7429 - val_loss: 5.7185 - val_accuracy: 0.6250\n",
            "Epoch 5/5\n",
            "163/163 [==============================] - 92s 562ms/step - loss: 3.9205 - accuracy: 0.7429 - val_loss: 5.7185 - val_accuracy: 0.6250\n"
          ]
        },
        {
          "output_type": "execute_result",
          "data": {
            "text/plain": [
              "<keras.src.callbacks.History at 0x7a6e553acdf0>"
            ]
          },
          "metadata": {},
          "execution_count": 15
        }
      ]
    },
    {
      "cell_type": "code",
      "source": [
        "# Evaluate the model\n"
      ],
      "metadata": {
        "id": "Gojo4KT-woEz"
      },
      "execution_count": null,
      "outputs": []
    }
  ]
}